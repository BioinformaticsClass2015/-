{
 "cells": [
  {
   "cell_type": "markdown",
   "metadata": {},
   "source": [
    "### 学号：3150129010                          姓名：颜逸鑫 "
   ]
  },
  {
   "cell_type": "markdown",
   "metadata": {},
   "source": [
    "### ###二分法### ###"
   ]
  },
  {
   "cell_type": "code",
   "execution_count": 3,
   "metadata": {},
   "outputs": [
    {
     "data": {
      "text/plain": [
       "binary_search (generic function with 2 methods)"
      ]
     },
     "execution_count": 3,
     "metadata": {},
     "output_type": "execute_result"
    }
   ],
   "source": [
    "function binary_search(f,g,l0,r0,e=0.001)\n",
    "    n=ceil(log(abs(r0-l0)/e)/log(2))\n",
    "    if l0<r0\n",
    "        l=r0\n",
    "        r=l0\n",
    "    else\n",
    "        if l0>r0\n",
    "            l=r0\n",
    "            r=l0\n",
    "        else\n",
    "            println(\"ERROR\")\n",
    "        end\n",
    "    end\n",
    "    a=(l+r)*0.5\n",
    "    for i=1:n\n",
    "        ga=g(a)\n",
    "        println(\"l=$l,r=$r,a=$a,g=$ga\")\n",
    "        if abs(ga<10*e-15)\n",
    "            return a,f(a)\n",
    "        else\n",
    "            if ga<0\n",
    "                l=a\n",
    "            else\n",
    "                r=a\n",
    "            end\n",
    "        end\n",
    "        a=(l+r)*0.5\n",
    "    end\n",
    "    return a,f(a)\n",
    "end"
   ]
  },
  {
   "cell_type": "code",
   "execution_count": 4,
   "metadata": {},
   "outputs": [
    {
     "name": "stdout",
     "output_type": "stream",
     "text": [
      "l=1,r=-1,a=0.0,g=0.0\n",
      "l=1,r=0.0,a=0.5,g=1.0\n",
      "l=1,r=0.5,a=0.75,g=1.5\n",
      "l=1,r=0.75,a=0.875,g=1.75\n",
      "l=1,r=0.875,a=0.9375,g=1.875\n",
      "l=1,r=0.9375,a=0.96875,g=1.9375\n",
      "l=1,r=0.96875,a=0.984375,g=1.96875\n",
      "l=1,r=0.984375,a=0.9921875,g=1.984375\n",
      "l=1,r=0.9921875,a=0.99609375,g=1.9921875\n",
      "l=1,r=0.99609375,a=0.998046875,g=1.99609375\n",
      "l=1,r=0.998046875,a=0.9990234375,g=1.998046875\n"
     ]
    },
    {
     "data": {
      "text/plain": [
       "(0.99951171875, 0.9990236759185791)"
      ]
     },
     "execution_count": 4,
     "metadata": {},
     "output_type": "execute_result"
    }
   ],
   "source": [
    "binary_search(x->x^2,x->2*x,-1,1)"
   ]
  },
  {
   "cell_type": "markdown",
   "metadata": {},
   "source": [
    "### ###黄金分割法### ###"
   ]
  },
  {
   "cell_type": "code",
   "execution_count": 1,
   "metadata": {},
   "outputs": [
    {
     "data": {
      "text/plain": [
       "golden_section (generic function with 3 methods)"
      ]
     },
     "execution_count": 1,
     "metadata": {},
     "output_type": "execute_result"
    }
   ],
   "source": [
    "function golden_section(f,L0,r0,p=0.382,e=0.1)\n",
    "    n=ceil(log(e/abs(r0-L0))/log(1-p))\n",
    "    if L0<r0\n",
    "        L=L0\n",
    "        r=r0\n",
    "    else\n",
    "        if L0>r0\n",
    "            L=r0\n",
    "            r=L0\n",
    "        else\n",
    "            println(\"ERROR\")\n",
    "        end\n",
    "    end\n",
    "    for i=1:n\n",
    "        L1=L+p*(r-L)\n",
    "        r1=L+(1-p)*(r-L)\n",
    "        println(\"L=$L,r=$r\")\n",
    "        if f(L1)<f(r1)\n",
    "            L=L\n",
    "            r=r1\n",
    "        else\n",
    "            L=L1\n",
    "            r=r\n",
    "        end\n",
    "    end\n",
    "    return L,r \n",
    "end"
   ]
  },
  {
   "cell_type": "code",
   "execution_count": 2,
   "metadata": {},
   "outputs": [
    {
     "name": "stdout",
     "output_type": "stream",
     "text": [
      "L=0,r=2\n",
      "L=0,r=1.8\n",
      "L=0,r=1.62\n",
      "L=0.16200000000000003,r=1.62\n",
      "L=0.16200000000000003,r=1.4742000000000002\n",
      "L=0.29322000000000004,r=1.4742000000000002\n",
      "L=0.29322000000000004,r=1.3561020000000001\n",
      "L=0.29322000000000004,r=1.2498138\n",
      "L=0.38887938000000005,r=1.2498138\n",
      "L=0.38887938000000005,r=1.163720358\n",
      "L=0.46636347780000004,r=1.163720358\n",
      "L=0.46636347780000004,r=1.09398466998\n",
      "L=0.529125597018,r=1.09398466998\n",
      "L=0.529125597018,r=1.0374987626838\n",
      "L=0.57996291358458,r=1.0374987626838\n",
      "L=0.57996291358458,r=0.9917451777738779\n"
     ]
    },
    {
     "data": {
      "text/plain": [
       "(0.57996291358458, 0.9505669513549482)"
      ]
     },
     "execution_count": 2,
     "metadata": {},
     "output_type": "execute_result"
    }
   ],
   "source": [
    "golden_section(x->x^4-14*x^3+60*x^2-70*x,0,2,0.1,0.382)"
   ]
  },
  {
   "cell_type": "markdown",
   "metadata": {},
   "source": [
    "### ###斐波那契法### ###"
   ]
  },
  {
   "cell_type": "code",
   "execution_count": 3,
   "metadata": {},
   "outputs": [
    {
     "data": {
      "text/plain": [
       "fibonacci (generic function with 2 methods)"
      ]
     },
     "execution_count": 3,
     "metadata": {},
     "output_type": "execute_result"
    }
   ],
   "source": [
    "function fibonacci(f,l0,r0,e=0.3)\n",
    "    if l0<r0\n",
    "        l=l0\n",
    "        r=r0\n",
    "    else\n",
    "        if l0>r0\n",
    "            l=r0\n",
    "            r=l0\n",
    "        else\n",
    "            println(\"ERROR!\")\n",
    "        end\n",
    "    end\n",
    "    p=0\n",
    "    threshold=abs(r0-l0)/e\n",
    "    fib=[1,2]\n",
    "    n=3\n",
    "    current=fib[n-1]+fib[n-2]\n",
    "    while current<threshold\n",
    "        push!(fib,current)\n",
    "        n+=1\n",
    "        current=fib[n-1]+fib[n-2]\n",
    "    end\n",
    "    push!(fib,current)\n",
    "   \n",
    "    for i=1:(n-1)\n",
    "        p=1-fib[n-i]/fib[n-i+1]\n",
    "        l1=l+p*(r-l)\n",
    "        r1=l+(1-p)*(r-l)\n",
    "        fl1=f(l1)\n",
    "        fr1=f(r1)\n",
    "        \n",
    "        if fl1<fr1\n",
    "            r=r1\n",
    "        else\n",
    "            l=l1\n",
    "        end\n",
    "    end\n",
    "    return l,r,n,p\n",
    "end"
   ]
  },
  {
   "cell_type": "code",
   "execution_count": 4,
   "metadata": {},
   "outputs": [
    {
     "data": {
      "text/plain": [
       "(0.75, 1.0, 5, 0.5)"
      ]
     },
     "execution_count": 4,
     "metadata": {},
     "output_type": "execute_result"
    }
   ],
   "source": [
    "fibonacci(x->x^4-14*x^3+60*x^2-70*x,0,2,0.3)"
   ]
  },
  {
   "cell_type": "code",
   "execution_count": null,
   "metadata": {},
   "outputs": [],
   "source": []
  }
 ],
 "metadata": {
  "kernelspec": {
   "display_name": "Julia 0.6.2",
   "language": "julia",
   "name": "julia-0.6"
  },
  "language_info": {
   "file_extension": ".jl",
   "mimetype": "application/julia",
   "name": "julia",
   "version": "0.6.2"
  }
 },
 "nbformat": 4,
 "nbformat_minor": 2
}
