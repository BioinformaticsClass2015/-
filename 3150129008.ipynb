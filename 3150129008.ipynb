{
 "cells": [
  {
   "cell_type": "code",
   "execution_count": 43,
   "metadata": {
    "scrolled": true
   },
   "outputs": [
    {
     "data": {
      "text/plain": [
       "golden (generic function with 2 methods)"
      ]
     },
     "execution_count": 43,
     "metadata": {},
     "output_type": "execute_result"
    }
   ],
   "source": [
    "###黄金分割法\n",
    "function golden(f,l0,r0,p,ϵ=0.3)\n",
    "    n=ceil(log(ϵ/2)/log(1-p))  \n",
    "      l=l0+p*(r0-l0)\n",
    "    r=l0+(1-p)*(r0-l0)      \n",
    "    for i=1:n     \n",
    "    l=l0+p*(r0-l0)\n",
    "    r=l0+(1-p)*(r0-l0)    \n",
    "        if f(l)<f(r)\n",
    "            r0=r\n",
    "        else\n",
    "            if f(l)>f(r)  \n",
    "            l0=l\n",
    "            end\n",
    "         end\n",
    "        f1=f(l)\n",
    "        f2=f(r)\n",
    "        println(\"l=$l0,r=$r0,$f1,$f2\")\n",
    "    end\n",
    "    return n\n",
    "end\n"
   ]
  },
  {
   "cell_type": "code",
   "execution_count": 44,
   "metadata": {},
   "outputs": [
    {
     "name": "stdout",
     "output_type": "stream",
     "text": [
      "l=0,r=1.236,-24.360751395584003,-18.959636515583995\n",
      "l=0.472152,r=1.236,-21.098872041671836,-24.360590848284794\n",
      "l=0.472152,r=0.944210064,-24.360690237870582,-23.593032666005605\n",
      "l=0.652478180448,r=0.944210064,-23.837455119242016,-24.360628880553755\n"
     ]
    },
    {
     "data": {
      "text/plain": [
       "4.0"
      ]
     },
     "execution_count": 44,
     "metadata": {},
     "output_type": "execute_result"
    }
   ],
   "source": [
    "golden(x->x^4-14*x^3+60*x^2-70*x,0,2,0.382,0.3)"
   ]
  },
  {
   "cell_type": "code",
   "execution_count": 45,
   "metadata": {},
   "outputs": [
    {
     "data": {
      "text/plain": [
       "binary_search (generic function with 2 methods)"
      ]
     },
     "execution_count": 45,
     "metadata": {},
     "output_type": "execute_result"
    }
   ],
   "source": [
    "###二分法\n",
    "function binary_search(f,g,l0,r0,ϵ=0.3)\n",
    "    n=ceil(log(abs(r0-l0)/ϵ)/log(2))\n",
    "    if l0<r0\n",
    "     l=l0\n",
    "     r=r0\n",
    "    else\n",
    "        if l0<r0\n",
    "            l=l0\n",
    "            r=r0\n",
    "        else\n",
    "            if l0>r0\n",
    "                l=r0\n",
    "                r=l0\n",
    "            else\n",
    "        println(\"ERROR:l0==r0\")\n",
    "                end \n",
    "            end\n",
    "    end\n",
    "    m=(l+r)*0.5\n",
    "    for i=1:n\n",
    "        gm=g(m)\n",
    "       println(\"l=$l,m=$m,g=$gm\")\n",
    "        if abs(gm)<10E-15\n",
    "        return m,f(m)\n",
    "        else\n",
    "            if gm<0\n",
    "               l=m\n",
    "            else\n",
    "               r=m            \n",
    "            end\n",
    "        end        \n",
    "        m=(l+r)*0.5  \n",
    "    end\n",
    "  return m,f(m)            \n",
    "end\n"
   ]
  },
  {
   "cell_type": "code",
   "execution_count": 46,
   "metadata": {},
   "outputs": [
    {
     "name": "stdout",
     "output_type": "stream",
     "text": [
      "l=0,m=1.0,g=12.0\n",
      "l=0,m=0.5,g=-20.0\n",
      "l=0.5,m=0.75,g=-1.9375\n"
     ]
    },
    {
     "data": {
      "text/plain": [
       "(0.875, -24.105224609375)"
      ]
     },
     "execution_count": 46,
     "metadata": {},
     "output_type": "execute_result"
    }
   ],
   "source": [
    "binary_search(x->x^4-14*x^3+60*x^2-70*x,x->4*x^3-42*x^2+120*x-70,0,2,0.3)"
   ]
  },
  {
   "cell_type": "code",
   "execution_count": 49,
   "metadata": {},
   "outputs": [
    {
     "data": {
      "text/plain": [
       "fibonacci (generic function with 2 methods)"
      ]
     },
     "execution_count": 49,
     "metadata": {},
     "output_type": "execute_result"
    }
   ],
   "source": [
    "###斐波那契数列法\n",
    "function fibonacci(f,a0,b0,ϵ=0.1)   \n",
    " fib=[1,2]\n",
    " n=3\n",
    " current=fib[n-1]+fib[n-2]\n",
    "    while current<(1+2*ϵ)/0.15\n",
    "    push!(fib,current)\n",
    "    n+=1\n",
    "    current=fib[n-1]+fib[n-2]\n",
    "    end\n",
    "    push!(fib,current)\n",
    "    while n>1\n",
    "    p=1-fib[n-1]/fib[n]\n",
    "    a1=a0+p*(b0-a0)\n",
    "    b1=a0+(1-p)*(b0-a0)\n",
    "    if f(a1)<f(b1)\n",
    "      b0=b1\n",
    "    else\n",
    "      a0=a1\n",
    "    end \n",
    "        fa=f(a1)\n",
    "        fb=f(b1)\n",
    "        n=n-1\n",
    "        println(\"a0=$a0,b0=$b0,$fa,$fb\")\n",
    "   end\n",
    "end\n",
    "    "
   ]
  },
  {
   "cell_type": "code",
   "execution_count": 50,
   "metadata": {},
   "outputs": [
    {
     "name": "stdout",
     "output_type": "stream",
     "text": [
      "a0=0,b0=1.25,-24.33984375,-18.65234375\n",
      "a0=0.5,b0=1.25,-21.6875,-24.33984375\n",
      "a0=0.5,b0=1.0,-24.33984375,-23.0\n",
      "a0=0.75,b0=1.0,-24.33984375,-24.33984375\n"
     ]
    }
   ],
   "source": [
    "fibonacci(x->x^4-14*x^3+60*x^2-70*x,0,2,0.1)"
   ]
  },
  {
   "cell_type": "code",
   "execution_count": null,
   "metadata": {},
   "outputs": [],
   "source": []
  }
 ],
 "metadata": {
  "kernelspec": {
   "display_name": "Julia 0.6.2",
   "language": "julia",
   "name": "julia-0.6"
  },
  "language_info": {
   "file_extension": ".jl",
   "mimetype": "application/julia",
   "name": "julia",
   "version": "0.6.2"
  }
 },
 "nbformat": 4,
 "nbformat_minor": 2
}
