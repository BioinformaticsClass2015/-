{
 "cells": [
  {
   "cell_type": "code",
   "execution_count": 22,
   "metadata": {},
   "outputs": [
    {
     "data": {
      "text/plain": [
       "binary_search (generic function with 2 methods)"
      ]
     },
     "execution_count": 22,
     "metadata": {},
     "output_type": "execute_result"
    }
   ],
   "source": [
    "function binary_search(f,g,l0,r0,d)\n",
    "    n=ceil(log(abs(r0-l0)/d)/log(2))\n",
    "    if l0 < r0\n",
    "        l = r0\n",
    "        r= l0\n",
    "    else\n",
    "        if l0 > r0\n",
    "            l=r0\n",
    "            r=l0\n",
    "        else\n",
    "            println(\"RROR:l0==r0,θ-width range\")\n",
    "        end\n",
    "    end\n",
    "    m=(l+r)*0.5\n",
    "    for i=1:n\n",
    "        gm=g(m)\n",
    "        println(\"l=$l,r=$r,m=$m,g=$gm\")\n",
    "        if abs(gm )< 10d-15\n",
    "            return m,f(m)\n",
    "        else\n",
    "            if gm < 0\n",
    "                l=m\n",
    "            else\n",
    "                r=m\n",
    "            end\n",
    "        end\n",
    "        m=(l+r)*0.5\n",
    "    end\n",
    "    return m,f(m)\n",
    "end\n",
    "\n",
    "        "
   ]
  },
  {
   "cell_type": "code",
   "execution_count": 23,
   "metadata": {},
   "outputs": [
    {
     "name": "stdout",
     "output_type": "stream",
     "text": [
      "l=2,r=0,m=1.0,g=-23.0\n",
      "l=1.0,r=0,m=0.5,g=-21.6875\n",
      "l=0.5,r=0,m=0.25,g=-13.96484375\n"
     ]
    },
    {
     "data": {
      "text/plain": [
       "(0.125, -7.839599609375)"
      ]
     },
     "execution_count": 23,
     "metadata": {},
     "output_type": "execute_result"
    }
   ],
   "source": [
    "binary_search(x->x^4-14*x^3+60x^2-70*x,x->x^4-14*x^3+60x^2-70*x,0,2,0.3)"
   ]
  },
  {
   "cell_type": "code",
   "execution_count": 11,
   "metadata": {},
   "outputs": [
    {
     "data": {
      "text/plain": [
       "golden (generic function with 1 method)"
      ]
     },
     "execution_count": 11,
     "metadata": {},
     "output_type": "execute_result"
    }
   ],
   "source": [
    "function golden(f,a,b,ρ,d)\n",
    "      n=ceil(log(d/abs(a-b))/log(0.61803))\n",
    "    a0=a\n",
    "    b0=b\n",
    "    a1=a0+ρ*(b0-a0)\n",
    "    b1=a0+(1-ρ)*(b0+a0)\n",
    "    for i=1:n\n",
    "        fm=f(a1)\n",
    "        gm=f(b1)\n",
    "        println(\"l=$a1,r=$b1,m=$fm,g=$gm\")\n",
    "        if fm<gm\n",
    "            a0=a0\n",
    "            b0=b1\n",
    "            b1=a1\n",
    "            a1=a0+ρ*(b0-a0)\n",
    "        else\n",
    "            a0=a1\n",
    "            b0=b0\n",
    "            a1=b1\n",
    "            b1=a0+(1-ρ)*(b0-a0)         \n",
    "        end\n",
    "    end\n",
    "    return a0,b0\n",
    "end\n",
    "    "
   ]
  },
  {
   "cell_type": "code",
   "execution_count": 12,
   "metadata": {},
   "outputs": [
    {
     "name": "stdout",
     "output_type": "stream",
     "text": [
      "l=0.76394,r=1.2360600000000002,m=-24.360688195069166,g=-18.958333871649472\n",
      "l=0.47213783820000005,r=0.76394,m=-21.098556456146774,g=-24.360688195069166\n",
      "l=0.76394,r=0.9442646518572542,m=-24.360688195069166,g=-23.59252885199325\n",
      "l=0.6524761172126614,r=0.76394,m=-23.837437639212805,g=-24.360688195069166\n"
     ]
    },
    {
     "data": {
      "text/plain": [
       "(0.6524761172126614, 0.9442646518572542)"
      ]
     },
     "execution_count": 12,
     "metadata": {},
     "output_type": "execute_result"
    }
   ],
   "source": [
    "golden(x->x^4-14*x^3+60x^2-70*x,0,2,0.38197,0.3)"
   ]
  },
  {
   "cell_type": "code",
   "execution_count": 183,
   "metadata": {},
   "outputs": [
    {
     "data": {
      "text/plain": [
       "fibonacci (generic function with 3 methods)"
      ]
     },
     "execution_count": 183,
     "metadata": {},
     "output_type": "execute_result"
    }
   ],
   "source": [
    "function fibonacci(f,l0,r0,ξ=0.1,d=0.3)\n",
    "    threshold=(1+2*ξ)/(d/abs(r0-l0)) \n",
    "    fib=[1,2]\n",
    "    n=3\n",
    "    current=fib[n-1]+fib[n-2]\n",
    "    while current<threshold\n",
    "        push!(fib,current)\n",
    "        n+=1\n",
    "        current=fib[n-1]+fib[n-2]\n",
    "        end \n",
    "        a=push!(fib,current)\n",
    "        fib \n",
    "        m=n \n",
    "        ρ=1-a[m-1]/a[m]        \n",
    "        a0=l0\n",
    "        b0=r0\n",
    "        a1=a0+ρ*(b0-a0)\n",
    "        b1=a0+(1-ρ)*(b0-a0)\n",
    "    for i=1:n-1\n",
    "        m-=1\n",
    "        fm=f(a1)\n",
    "        gm=f(b1)      \n",
    "        if fm<gm\n",
    "            a0=a0\n",
    "            b0=b1\n",
    "            b1=a1\n",
    "            ρ=1-a[m-1]/a[m]          \n",
    "          if i<3\n",
    "            a1=a0+ρ*(b0-a0)\n",
    "            else  \n",
    "                 a1=a0+(ρ-0.05)*(b0-a0)\n",
    "            end   \n",
    "        else\n",
    "            a0=a1\n",
    "            b0=b0\n",
    "            a1=b1\n",
    "            if m>1\n",
    "            ρ=1-a[m-1]/a[m]\n",
    "       \n",
    "            b1=a0+(1-ρ)*(b0-a0)   \n",
    "            end          \n",
    "        end    \n",
    "    end\n",
    "    return a0,b0\n",
    "end\n",
    "    \n",
    "\n",
    "\n"
   ]
  },
  {
   "cell_type": "code",
   "execution_count": 184,
   "metadata": {},
   "outputs": [
    {
     "data": {
      "text/plain": [
       "(0.725, 1.0)"
      ]
     },
     "execution_count": 184,
     "metadata": {},
     "output_type": "execute_result"
    }
   ],
   "source": [
    "fibonacci(x->x^4-14*x^3+60x^2-70*x,0,2)"
   ]
  },
  {
   "cell_type": "code",
   "execution_count": 87,
   "metadata": {},
   "outputs": [
    {
     "data": {
      "text/plain": [
       "fibonacci (generic function with 3 methods)"
      ]
     },
     "execution_count": 87,
     "metadata": {},
     "output_type": "execute_result"
    }
   ],
   "source": [
    "function fibonacci(f,l0,r0,d=0.03)\n",
    "    threshold=abs(r0-l0)/d\n",
    "    fib=[1,2]\n",
    "    n=3\n",
    "    current=fib[n-1]+fib[n-2]\n",
    "      println(\"l=$current,r=$threshold\")\n",
    "    while current<threshold\n",
    "        push!(fib,current)\n",
    "        n+=1\n",
    "        current=fib[n-1]+fib[n-2]\n",
    "        end\n",
    "       println(\"l=$current,r=$threshold\") \n",
    "    push!(fib,current)\n",
    "    fib\n",
    "    end\n",
    "\n"
   ]
  },
  {
   "cell_type": "code",
   "execution_count": 181,
   "metadata": {},
   "outputs": [
    {
     "data": {
      "text/plain": [
       "fibonacci (generic function with 3 methods)"
      ]
     },
     "execution_count": 181,
     "metadata": {},
     "output_type": "execute_result"
    }
   ],
   "source": [
    "function fibonacci(f,l0,r0,ξ=0.1,d=0.3)\n",
    "    threshold=(1+2*ξ)/(d/abs(r0-l0)) \n",
    "    fib=[1,2]\n",
    "    n=3\n",
    "    current=fib[n-1]+fib[n-2]\n",
    "    while current<threshold\n",
    "        push!(fib,current)\n",
    "        n+=1\n",
    "        current=fib[n-1]+fib[n-2]\n",
    "        end \n",
    "        a=push!(fib,current)\n",
    "        fib \n",
    "        m=n \n",
    "        ρ=1-a[m-1]/a[m]        \n",
    "        a0=l0\n",
    "        b0=r0\n",
    "        a1=a0+ρ*(b0-a0)\n",
    "        b1=a0+(1-ρ)*(b0-a0)\n",
    "    for i=1:n-1\n",
    "        m-=1\n",
    "        fm=f(a1)\n",
    "        gm=f(b1)\n",
    "        println(\"l=$a1,r=$b1,m=$fm,g=$gm\")\n",
    "        println(\"l=$a0,r=$b0,m=$fm,g=$gm\")\n",
    "        if fm<gm\n",
    "            a0=a0\n",
    "            b0=b1\n",
    "            b1=a1\n",
    "            ρ=1-a[m-1]/a[m]\n",
    "              println(\"g=$ρ\")\n",
    "          if i<3\n",
    "            a1=a0+ρ*(b0-a0)\n",
    "            else\n",
    "    \n",
    "                 a1=a0+(ρ-0.05)*(b0-a0)\n",
    "            end\n",
    "             println(\"l=$a1,r=$b1,m=$fm\")\n",
    "           println(\"l=$a0,r=$b0,g=$ρ\")\n",
    "        else\n",
    "            a0=a1\n",
    "            b0=b0\n",
    "            a1=b1\n",
    "            if m>1\n",
    "            ρ=1-a[m-1]/a[m]\n",
    "            println(\"e11=$ρ\")\n",
    "            b1=a0+(1-ρ)*(b0-a0)   \n",
    "            end\n",
    "                 println(\"l=$a1,r=$b1,m=$fm\")\n",
    "              println(\"l=$a0,r=$b0,g=$ρ\")\n",
    "        end\n",
    "        println(\"g=$m\")\n",
    "    end\n",
    "\n",
    "    return a0,b0\n",
    "end\n",
    "    \n",
    "\n",
    "\n"
   ]
  },
  {
   "cell_type": "code",
   "execution_count": 182,
   "metadata": {
    "scrolled": true
   },
   "outputs": [
    {
     "name": "stdout",
     "output_type": "stream",
     "text": [
      "l=0.75,r=1.25,m=-24.33984375,g=-18.65234375\n",
      "l=0,r=2,m=-24.33984375,g=-18.65234375\n",
      "g=0.4\n",
      "l=0.5,r=0.75,m=-24.33984375\n",
      "l=0,r=1.25,g=0.4\n",
      "g=4\n",
      "l=0.5,r=0.75,m=-21.6875,g=-24.33984375\n",
      "l=0,r=1.25,m=-21.6875,g=-24.33984375\n",
      "e11=0.33333333333333337\n",
      "l=0.75,r=1.0,m=-21.6875\n",
      "l=0.5,r=1.25,g=0.33333333333333337\n",
      "g=3\n",
      "l=0.75,r=1.0,m=-24.33984375,g=-23.0\n",
      "l=0.5,r=1.25,m=-24.33984375,g=-23.0\n",
      "g=0.5\n",
      "l=0.725,r=0.75,m=-24.33984375\n",
      "l=0.5,r=1.0,g=0.5\n",
      "g=2\n",
      "l=0.725,r=0.75,m=-24.271312109374996,g=-24.33984375\n",
      "l=0.5,r=1.0,m=-24.271312109374996,g=-24.33984375\n",
      "l=0.75,r=0.75,m=-24.271312109374996\n",
      "l=0.725,r=1.0,g=0.5\n",
      "g=1\n"
     ]
    },
    {
     "data": {
      "text/plain": [
       "(0.725, 1.0)"
      ]
     },
     "execution_count": 182,
     "metadata": {},
     "output_type": "execute_result"
    }
   ],
   "source": [
    "fibonacci(x->x^4-14*x^3+60x^2-70*x,0,2)"
   ]
  },
  {
   "cell_type": "code",
   "execution_count": 78,
   "metadata": {},
   "outputs": [
    {
     "data": {
      "text/plain": [
       "2"
      ]
     },
     "execution_count": 78,
     "metadata": {},
     "output_type": "execute_result"
    }
   ],
   "source": [
    "fib=[1,2]\n",
    "fib[2]"
   ]
  },
  {
   "cell_type": "code",
   "execution_count": null,
   "metadata": {},
   "outputs": [],
   "source": []
  }
 ],
 "metadata": {
  "kernelspec": {
   "display_name": "Julia 0.6.2",
   "language": "julia",
   "name": "julia-0.6"
  },
  "language_info": {
   "file_extension": ".jl",
   "mimetype": "application/julia",
   "name": "julia",
   "version": "0.6.2"
  }
 },
 "nbformat": 4,
 "nbformat_minor": 2
}
