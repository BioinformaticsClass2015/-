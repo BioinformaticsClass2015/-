{
 "cells": [
  {
   "cell_type": "code",
   "execution_count": 9,
   "metadata": {},
   "outputs": [
    {
     "data": {
      "text/plain": [
       "binary_search (generic function with 1 method)"
      ]
     },
     "execution_count": 9,
     "metadata": {},
     "output_type": "execute_result"
    }
   ],
   "source": [
    "#########################二分法########################\n",
    "function binary_search( f, g, l0, r0, e)\n",
    "    n=ceil(log(abs(r0-l0)/e)/log(2))\n",
    "    if(l0<r0)\n",
    "        l=l0\n",
    "        r=r0\n",
    "    else\n",
    "        if(l0>r0)\n",
    "            l=r0\n",
    "            r=l0\n",
    "        else\n",
    "            println(\"ERROR:l0==r0\")####报错l0=r0\n",
    "        end\n",
    "    end\n",
    "    m=(l0+r0)*0.5\n",
    "    for i=1:n######进行n次迭代\n",
    "                gm=g(m)\n",
    "                println(\"[$l0,$r0],m=$m,g=$gm\")\n",
    "            if abs(gm)<10E-15\n",
    "                    return m,f(m)\n",
    "                else\n",
    "                    if gm<0\n",
    "                        l0=m\n",
    "                    else\n",
    "                        r0=m\n",
    "                    end\n",
    "                end\n",
    "        m=(l0+r0)*0.5\n",
    "        end\n",
    "    return m,f(m)\n",
    "end"
   ]
  },
  {
   "cell_type": "code",
   "execution_count": 10,
   "metadata": {},
   "outputs": [
    {
     "name": "stdout",
     "output_type": "stream",
     "text": [
      "[0,2],m=1.0,g=25.0\n",
      "[0,1.0],m=0.5,g=-16.625\n",
      "[0.5,1.0],m=0.75,g=5.515625\n"
     ]
    },
    {
     "data": {
      "text/plain": [
       "(0.625, -23.577880859375)"
      ]
     },
     "execution_count": 10,
     "metadata": {},
     "output_type": "execute_result"
    }
   ],
   "source": [
    "binary_search(x->x^4-14*x^3+60*x^2-70*x,x->3*x^3-28*x^2+120*x-70,0,2,0.3)"
   ]
  },
  {
   "cell_type": "code",
   "execution_count": 11,
   "metadata": {},
   "outputs": [
    {
     "data": {
      "text/plain": [
       "golden_search (generic function with 1 method)"
      ]
     },
     "execution_count": 11,
     "metadata": {},
     "output_type": "execute_result"
    }
   ],
   "source": [
    "################黄金分割法#################\n",
    "function golden_search(f,l0,r0,e)\n",
    "    p=(3-5^0.5)/2\n",
    "    n=ceil(log(e/abs(r0-l0))/log(1-p))\n",
    "    if(l0<r0)\n",
    "        l=l0\n",
    "        r=r0\n",
    "    else\n",
    "        if(l0>r0)\n",
    "            l=r0\n",
    "            r=l0\n",
    "        else\n",
    "            println(\"ERROR:l0==r0\")\n",
    "        end\n",
    "    end\n",
    "        a1= l0+p*(r0-l0)\n",
    "        b1= l0+(1-p)*(r0-l0)\n",
    "    for i=1:n\n",
    "        a1= l0+p*(r0-l0)\n",
    "        b1= l0+(1-p)*(r0-l0)\n",
    "       fa1=f(a1)\n",
    "       fb1=f(b1)\n",
    "        if fa1<fb1\n",
    "            r0=b1\n",
    "        else\n",
    "            l0=a1\n",
    "        end\n",
    "        println(\"[$l0,$r0],fa=$fa1,fb=$fb1\")\n",
    "        end\n",
    "end"
   ]
  },
  {
   "cell_type": "code",
   "execution_count": 12,
   "metadata": {},
   "outputs": [
    {
     "name": "stdout",
     "output_type": "stream",
     "text": [
      "[0,1.2360679774997898],fa=-24.360679774997898,fb=-18.95816066493144\n",
      "[0.4721359549995794,1.2360679774997898],fa=-21.098514489125982,fb=-24.360679774997894\n",
      "[0.4721359549995794,0.9442719099991589],fa=-24.36067977499789,fb=-23.592461852053887\n",
      "[0.6524758424985279,0.9442719099991589],fa=-23.83743531177222,fb=-24.360679774997894\n",
      "[0.6524758424985279,0.8328157299974764],fa=-24.36067977499789,fb=-24.28788710846738\n",
      "[0.7213595499957939,0.8328157299974764],fa=-24.257947504026024,fb=-24.360679774997894\n",
      "[0.7639320225002103,0.8328157299974764],fa=-24.36067977499789,fb=-24.366907168027257\n"
     ]
    }
   ],
   "source": [
    "golden_search(x->x^4-14*x^3+60*x^2-70*x,0,2,0.1)"
   ]
  },
  {
   "cell_type": "code",
   "execution_count": 5,
   "metadata": {},
   "outputs": [
    {
     "data": {
      "text/plain": [
       "fibonacci (generic function with 1 method)"
      ]
     },
     "execution_count": 5,
     "metadata": {},
     "output_type": "execute_result"
    }
   ],
   "source": [
    "##################斐波那契法#################\n",
    "function fibonacci(f,l0,r0,e)\n",
    "    if(l0<r0)\n",
    "        l=l0\n",
    "        r=r0\n",
    "    else\n",
    "        if(l0>r0)\n",
    "            l=r0\n",
    "            r=l0\n",
    "        else\n",
    "            println(\"ERROR:l0==r0\")####当输入的左右边界值相等时报错\n",
    "        end\n",
    "    end\n",
    "    threshold = abs(r0-l0)/e\n",
    "    fib=[1,2]\n",
    "    n=3\n",
    "    current= fib[n-1]+fib[n-2]\n",
    "    while current<threshold\n",
    "        push!(fib,current)\n",
    "        #println(n)\n",
    "        n+=1\n",
    "        current= fib[n-1]+fib[n-2]\n",
    "    end\n",
    "    newfib=push!(fib,current)######构建所需要相应长度的斐波那契数列\n",
    "    N=n\n",
    "    for i=1:(n-1)\n",
    "        p=1-newfib[N-1]/newfib[N]\n",
    "        a1=l0+p*(r0-l0)\n",
    "        b1=l0+(1-p)*(r0-l0)\n",
    "        fa=f(a1)\n",
    "        fb=f(b1)\n",
    "        N=N-1\n",
    "        if fa<fb\n",
    "            r0=b1\n",
    "        else\n",
    "            l0=a1\n",
    "        end\n",
    "        println(\"[$l0,$r0],fa=$fa,fb=$fb\")\n",
    "    end\n",
    "    \n",
    "end"
   ]
  },
  {
   "cell_type": "code",
   "execution_count": 6,
   "metadata": {},
   "outputs": [
    {
     "name": "stdout",
     "output_type": "stream",
     "text": [
      "[0,1.25],fa=-24.33984375,fb=-18.65234375\n",
      "[0.5,1.25],fa=-21.6875,fb=-24.33984375\n",
      "[0.5,1.0],fa=-24.33984375,fb=-23.0\n",
      "[0.75,1.0],fa=-24.33984375,fb=-24.33984375\n"
     ]
    }
   ],
   "source": [
    "fibonacci(x->x^4-14*x^3+60*x^2-70*x,0,2,0.3)"
   ]
  },
  {
   "cell_type": "code",
   "execution_count": null,
   "metadata": {},
   "outputs": [],
   "source": []
  }
 ],
 "metadata": {
  "kernelspec": {
   "display_name": "Julia 0.6.2",
   "language": "julia",
   "name": "julia-0.6"
  },
  "language_info": {
   "file_extension": ".jl",
   "mimetype": "application/julia",
   "name": "julia",
   "version": "0.6.2"
  }
 },
 "nbformat": 4,
 "nbformat_minor": 2
}
