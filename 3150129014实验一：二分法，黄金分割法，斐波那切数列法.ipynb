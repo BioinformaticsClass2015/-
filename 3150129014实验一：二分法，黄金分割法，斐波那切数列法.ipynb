{
 "cells": [
  {
   "cell_type": "markdown",
   "metadata": {},
   "source": [
    "二分法"
   ]
  },
  {
   "cell_type": "code",
   "execution_count": 1,
   "metadata": {},
   "outputs": [
    {
     "data": {
      "text/plain": [
       "binary_search (generic function with 2 methods)"
      ]
     },
     "execution_count": 1,
     "metadata": {},
     "output_type": "execute_result"
    }
   ],
   "source": [
    "function binary_search(f,g,l0,r0,ε=0.001)\n",
    "    n=ceil(log(abs(r0-l0)/ε)log(2))\n",
    "        if l0<r0\n",
    "            l=l0\n",
    "            r=r0\n",
    "        else\n",
    "        if lθ>r0\n",
    "            l=r0\n",
    "            r=l0\n",
    "            println(\"ERROR:l0==r0,l-width range\")\n",
    "        end\n",
    "    end\n",
    "    m=(l+r)*0.5\n",
    "    for i=1:n\n",
    "        gm=g(m)\n",
    "        println(\"l=$l,r=$r,m=$m,g=$m\")\n",
    "        if abs(gm)<10E-15\n",
    "            return m,f(m)\n",
    "        else\n",
    "            if gm<0\n",
    "            l=m\n",
    "        else\n",
    "            r=m\n",
    "        end\n",
    "    end\n",
    "    m=(l+r)*0.5\n",
    "end\n",
    "return l,r,m,f(m)\n",
    "end\n",
    "       "
   ]
  },
  {
   "cell_type": "code",
   "execution_count": 2,
   "metadata": {},
   "outputs": [
    {
     "data": {
      "text/plain": [
       "5.0"
      ]
     },
     "execution_count": 2,
     "metadata": {},
     "output_type": "execute_result"
    }
   ],
   "source": [
    "ceil(5.0)"
   ]
  },
  {
   "cell_type": "code",
   "execution_count": 4,
   "metadata": {},
   "outputs": [
    {
     "name": "stdout",
     "output_type": "stream",
     "text": [
      "l=0,r=2,m=1.0,g=1.0\n",
      "l=0,r=1.0,m=0.5,g=0.5\n",
      "l=0.5,r=1.0,m=0.75,g=0.75\n"
     ]
    },
    {
     "data": {
      "text/plain": [
       "(0.75, 1.0, 0.875, -24.105224609375)"
      ]
     },
     "execution_count": 4,
     "metadata": {},
     "output_type": "execute_result"
    }
   ],
   "source": [
    "binary_search(x->x^4-14*x^3+60*x^2-70*x,x->4*x^3-42*x^2+120*x-70,0,2,0.03)"
   ]
  },
  {
   "cell_type": "markdown",
   "metadata": {},
   "source": [
    "黄金分割法"
   ]
  },
  {
   "cell_type": "code",
   "execution_count": 11,
   "metadata": {},
   "outputs": [
    {
     "data": {
      "text/plain": [
       "golden_search (generic function with 3 methods)"
      ]
     },
     "execution_count": 11,
     "metadata": {},
     "output_type": "execute_result"
    }
   ],
   "source": [
    "function golden_search(f,l0,r0,ε=0.3,p=0.382)\n",
    "     n = ceil(log(ε/abs(l0-r0))/log(1-p))\n",
    "    if l0<r0\n",
    "        l = l0\n",
    "        r = r0\n",
    "    else\n",
    "        if l0>r0\n",
    "            l = r0\n",
    "            r = l0\n",
    "        else\n",
    "            println(\"ERROR!\")\n",
    "        end\n",
    "    end\n",
    "     l1 = l+p*(r-l)\n",
    "     r1 = l+(1-p)*(r-l)\n",
    "    for i = 1:n\n",
    "        if f(l1)<f(r1)\n",
    "            l = l\n",
    "            r = r1\n",
    "        else\n",
    "            l = l1\n",
    "            r = r\n",
    "        end\n",
    "        l1 = l+p*(r-l)\n",
    "        r1 = l+(1-p)*(r-l)\n",
    "    end\n",
    "    return l,r\n",
    "end"
   ]
  },
  {
   "cell_type": "code",
   "execution_count": 12,
   "metadata": {},
   "outputs": [
    {
     "data": {
      "text/plain": [
       "(0.652478180448, 0.944210064)"
      ]
     },
     "execution_count": 12,
     "metadata": {},
     "output_type": "execute_result"
    }
   ],
   "source": [
    "golden_search(x->x^4-14*x^3+60*x^2-70*x,0,2,0.3)"
   ]
  },
  {
   "cell_type": "markdown",
   "metadata": {},
   "source": [
    "斐波那契数列法"
   ]
  },
  {
   "cell_type": "code",
   "execution_count": 5,
   "metadata": {},
   "outputs": [
    {
     "data": {
      "text/plain": [
       "Fibonacci_Search (generic function with 2 methods)"
      ]
     },
     "execution_count": 5,
     "metadata": {},
     "output_type": "execute_result"
    }
   ],
   "source": [
    "\n",
    "function Fibonacci_Search(f,l0,r0,ϵ1,ϵ2=0.05)###ϵ1是最终压缩区间的长度，ϵ2是很小的正数，使得最后一次迭代的参数1/2-ϵ,使得有两个中间点。\n",
    "    if l0<r0\n",
    "        l=l0\n",
    "        r=r0\n",
    "    else\n",
    "        if l0>r0\n",
    "           l=r0\n",
    "           r=l0\n",
    "        else\n",
    "            println(\"ERROR:l0 == r0, 0-width range\")\n",
    "        end\n",
    "    end\n",
    "    \n",
    "    ##创建fibonacci数组\n",
    "    threshold=abs(r-l)*(1+2ϵ2)/ϵ1\n",
    "    fib=[1,2]\n",
    "    n=3\n",
    "    current=fib[n-1]+fib[n-2]\n",
    "    while  current <threshold\n",
    "        push!(fib,current)\n",
    "        n += 1 \n",
    "        current=fib[n-1]+fib[n-2]\n",
    "    end\n",
    "     push!(fib,current)\n",
    "     N=n-1\n",
    "     fib=sort(fib,1,rev=true)\n",
    "    \n",
    "    for i=1:N\n",
    "         if i==N\n",
    "            p=1-fib[i+1]/fib[i]-ϵ2\n",
    "            \n",
    "        else\n",
    "            p=1-fib[i+1]/fib[i]\n",
    "        end\n",
    "       a=l+p*(r-l)\n",
    "       b=l+(1-p)*(r-l)\n",
    "       fa=round(f(a),2)\n",
    "       fb=round(f(b),2)\n",
    "         if f(a)<f(b)\n",
    "            r=b\n",
    "            \n",
    "            println(\"f(a)=$fa \\t f(b)=$fb\\t l=$l \\t r=$r\")\n",
    "            else\n",
    "            l=a\n",
    "            println(\"f(a)=$fa \\t f(b)=$fb\\t l=$l \\t r=$r\")\n",
    "        end\n",
    "    end\n",
    "    length=r-l;\n",
    "    println(\"极小值所在的区间为：[$l,$r],区间的长度为$length,小于等于ϵ=$ϵ1\")\n",
    "end"
   ]
  },
  {
   "cell_type": "code",
   "execution_count": 7,
   "metadata": {},
   "outputs": [
    {
     "name": "stdout",
     "output_type": "stream",
     "text": [
      "f(a)=-24.36 \t f(b)=-18.95\t l=0 \t r=1.2363636363636363\n",
      "f(a)=-21.11 \t f(b)=-24.36\t l=0.47272727272727266 \t r=1.2363636363636363\n",
      "f(a)=-24.36 \t f(b)=-23.58\t l=0.47272727272727266 \t r=0.9454545454545454\n",
      "f(a)=-23.85 \t f(b)=-24.36\t l=0.6545454545454545 \t r=0.9454545454545454\n",
      "f(a)=-24.36 \t f(b)=-24.28\t l=0.6545454545454545 \t r=0.8363636363636364\n",
      "f(a)=-24.28 \t f(b)=-24.36\t l=0.7272727272727273 \t r=0.8363636363636364\n",
      "f(a)=-24.36 \t f(b)=-24.36\t l=0.7272727272727273 \t r=0.8\n",
      "f(a)=-24.36 \t f(b)=-24.36\t l=0.76 \t r=0.8\n",
      "极小值所在的区间为：[0.76,0.8],区间的长度为0.040000000000000036,小于等于ϵ=0.05\n"
     ]
    }
   ],
   "source": [
    "Fibonacci_Search(x->x^4-14*x^3+60*x^2-70*x,0,2,0.05)"
   ]
  },
  {
   "cell_type": "code",
   "execution_count": null,
   "metadata": {},
   "outputs": [],
   "source": [
    "function fibonacci(f,l0,r0,ε=0.001)\n",
    "    threshold=abs(r0-l0)/ε\n",
    "     println(threshold)\n",
    "    fib=[1,2]\n",
    "    n=3\n",
    "    current=fib[n-1]+fib[n-2]\n",
    "    while current<threshold\n",
    "        push!(fib,current)\n",
    "        println(n)\n",
    "        n+=1    \n",
    "    end\n",
    "     push!(fib,current)\n",
    "end"
   ]
  },
  {
   "cell_type": "code",
   "execution_count": null,
   "metadata": {},
   "outputs": [],
   "source": []
  },
  {
   "cell_type": "code",
   "execution_count": null,
   "metadata": {},
   "outputs": [],
   "source": []
  }
 ],
 "metadata": {
  "kernelspec": {
   "display_name": "Julia 0.6.2",
   "language": "julia",
   "name": "julia-0.6"
  },
  "language_info": {
   "file_extension": ".jl",
   "mimetype": "application/julia",
   "name": "julia",
   "version": "0.6.2"
  }
 },
 "nbformat": 4,
 "nbformat_minor": 2
}
