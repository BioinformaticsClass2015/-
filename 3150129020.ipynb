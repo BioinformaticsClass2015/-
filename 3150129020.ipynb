{
 "cells": [
  {
   "cell_type": "markdown",
   "metadata": {},
   "source": [
    "# 第一章   一维搜索方法"
   ]
  },
  {
   "cell_type": "markdown",
   "metadata": {},
   "source": [
    "# 黄金分割法"
   ]
  },
  {
   "cell_type": "code",
   "execution_count": 1,
   "metadata": {},
   "outputs": [
    {
     "data": {
      "text/plain": [
       "Gold (generic function with 2 methods)"
      ]
     },
     "execution_count": 1,
     "metadata": {},
     "output_type": "execute_result"
    }
   ],
   "source": [
    "function Gold(f,l0,r0,ϵ=0.01)   ##p=0.618\n",
    "    n = ceil(log(ϵ/2)/log(0.61803))\n",
    "    \n",
    "    ##判断输入;\n",
    "    if l0<r0\n",
    "        l = l0\n",
    "        r = r0\n",
    "    else\n",
    "        if l0>r0\n",
    "            l = r0\n",
    "            r = l0\n",
    "        else\n",
    "            println(\"ERROR!\")\n",
    "        end\n",
    "    end\n",
    "    \n",
    "    ##黄金分割算法;\n",
    "    ltmp = l + (1-0.61803)*(r-l)\n",
    "    rtmp = l + 0.61803*(r-l)\n",
    "    fl = f(ltmp)\n",
    "    fr = f(rtmp)\n",
    "    for i = 1:n\n",
    "        if fl > fr\n",
    "            l = ltmp\n",
    "            r = r\n",
    "            fl = fr\n",
    "            rtmp = l + 0.61803*(r-l)\n",
    "            fr = f(rtmp)\n",
    "        else\n",
    "            l = l\n",
    "            r = rtmp\n",
    "            fr = fl\n",
    "            ltmp = l + (1-0.61803)*(r-l)\n",
    "            fl = f(ltmp)\n",
    "        end\n",
    "    end\n",
    "    return l,r\n",
    "end"
   ]
  },
  {
   "cell_type": "code",
   "execution_count": 2,
   "metadata": {
    "scrolled": true
   },
   "outputs": [
    {
     "data": {
      "text/plain": [
       "(0.6524761172126613, 0.944264651857254)"
      ]
     },
     "execution_count": 2,
     "metadata": {},
     "output_type": "execute_result"
    }
   ],
   "source": [
    "Gold(x->x^4-14x^3+60x^2-70x,0,2,0.3)"
   ]
  },
  {
   "cell_type": "markdown",
   "metadata": {},
   "source": [
    "# 斐波那契法"
   ]
  },
  {
   "cell_type": "code",
   "execution_count": 3,
   "metadata": {},
   "outputs": [
    {
     "data": {
      "text/plain": [
       "Fibonacci (generic function with 2 methods)"
      ]
     },
     "execution_count": 3,
     "metadata": {},
     "output_type": "execute_result"
    }
   ],
   "source": [
    "function Fibonacci(f,l0,r0,ϵ1,ϵ2=0.05)\n",
    "    threshold = abs(l0-r0)*(1+2*ϵ2)/ϵ1\n",
    "    \n",
    "    ##判断输入;\n",
    "    if l0<r0\n",
    "        a = l0\n",
    "        b = r0\n",
    "    else\n",
    "        if l0>r0\n",
    "            a = l0\n",
    "            b = r0\n",
    "        else\n",
    "            println(\"ERROR!\")\n",
    "            end\n",
    "    end\n",
    "    \n",
    "    ##建立数组;\n",
    "    fib = [1,2]\n",
    "    n = 3\n",
    "    current = fib[n-1]+fib[n-2]\n",
    "    while current<threshold\n",
    "        push!(fib,current)\n",
    "        n+=1\n",
    "        current=fib[n-1]+fib[n-2]\n",
    "    end\n",
    "    push!(fib,current)\n",
    "    N=n-1\n",
    "    fib=sort(fib,1,rev=true)\n",
    "    \n",
    "    for i=1:N\n",
    "        if i==N\n",
    "            p=1-fib[i+1]/fib[i]-ϵ2\n",
    "        else\n",
    "            p=1-fib[i+1]/fib[i]\n",
    "        end\n",
    "        l = a+p*(b-a)\n",
    "        r = a+(1-p)*(b-a)\n",
    "        fl = round(f(l),2)\n",
    "        fr = round(f(r),2)\n",
    "        if f(l)<f(r)\n",
    "            b = r\n",
    "        else\n",
    "            a = l\n",
    "        end\n",
    "    end\n",
    "    return fib,a,b\n",
    "end"
   ]
  },
  {
   "cell_type": "code",
   "execution_count": 4,
   "metadata": {},
   "outputs": [
    {
     "data": {
      "text/plain": [
       "([8, 5, 3, 2, 1], 0.725, 1.0)"
      ]
     },
     "execution_count": 4,
     "metadata": {},
     "output_type": "execute_result"
    }
   ],
   "source": [
    "Fibonacci(x->x^4-14x^3+60x^2-70x,0,2,0.3,0.05)"
   ]
  },
  {
   "cell_type": "markdown",
   "metadata": {},
   "source": [
    "# 二分法"
   ]
  },
  {
   "cell_type": "code",
   "execution_count": 5,
   "metadata": {},
   "outputs": [
    {
     "data": {
      "text/plain": [
       "Binary_Search (generic function with 2 methods)"
      ]
     },
     "execution_count": 5,
     "metadata": {},
     "output_type": "execute_result"
    }
   ],
   "source": [
    "function Binary_Search(f,g,l0,r0,e=0.01)\n",
    "    n = ceil(log(abs(l0-r0)/e)/log(2))\n",
    "    if l0<r0\n",
    "        l = l0\n",
    "        r = r0\n",
    "    else\n",
    "        if l0>r0\n",
    "            l = r0\n",
    "            r = l0\n",
    "        else\n",
    "            println(\"ERROR!\")\n",
    "        end\n",
    "    end\n",
    "    m = (l+r)*0.5\n",
    "    for i = 1:n\n",
    "        gm = g(m)\n",
    "        if abs(gm) == 0\n",
    "            return m,f(m)\n",
    "        else\n",
    "            if gm < 0\n",
    "                l = m\n",
    "            else\n",
    "                r = m\n",
    "            end\n",
    "        end\n",
    "        m = (l+r)*0.5\n",
    "    end\n",
    "    return m,f(m)\n",
    "end"
   ]
  },
  {
   "cell_type": "code",
   "execution_count": 6,
   "metadata": {},
   "outputs": [
    {
     "data": {
      "text/plain": [
       "(0.78125, -24.36959743499756)"
      ]
     },
     "execution_count": 6,
     "metadata": {},
     "output_type": "execute_result"
    }
   ],
   "source": [
    "Binary_Search(x->x^4-14x^3+60x^2-70x,x->4x^3-42x^2+120x-70,0,2,0.1)"
   ]
  },
  {
   "cell_type": "code",
   "execution_count": 7,
   "metadata": {},
   "outputs": [
    {
     "data": {
      "text/plain": [
       "(0.0, 0.0)"
      ]
     },
     "execution_count": 7,
     "metadata": {},
     "output_type": "execute_result"
    }
   ],
   "source": [
    "Binary_Search(x->x^2,x->2*x,-1,1,0.01)"
   ]
  }
 ],
 "metadata": {
  "kernelspec": {
   "display_name": "Julia 0.6.2",
   "language": "julia",
   "name": "julia-0.6"
  },
  "language_info": {
   "file_extension": ".jl",
   "mimetype": "application/julia",
   "name": "julia",
   "version": "0.6.2"
  }
 },
 "nbformat": 4,
 "nbformat_minor": 2
}
