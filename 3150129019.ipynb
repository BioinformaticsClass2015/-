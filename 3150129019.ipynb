{
 "cells": [
  {
   "cell_type": "markdown",
   "metadata": {},
   "source": [
    "# 第7章  一维搜索方法"
   ]
  },
  {
   "cell_type": "markdown",
   "metadata": {},
   "source": [
    "\n",
    "# （一）二分法"
   ]
  },
  {
   "cell_type": "code",
   "execution_count": 401,
   "metadata": {},
   "outputs": [
    {
     "data": {
      "text/plain": [
       "Binary_Search (generic function with 1 method)"
      ]
     },
     "execution_count": 401,
     "metadata": {},
     "output_type": "execute_result"
    }
   ],
   "source": [
    "function Binary_Search(f,g,l0,r0,ϵ)\n",
    " N=ceil(log(abs(r0-l0)/ϵ)/log(2))\n",
    "    if l0<r0\n",
    "        l=l0\n",
    "        r=r0\n",
    "    else\n",
    "        if l0>r0\n",
    "           l=r0\n",
    "           r=l0\n",
    "        else\n",
    "            println(\"ERROR:l0 == r0, 0-width range\")\n",
    "        end\n",
    "    end\n",
    "   m= (l+r) *0.5 \n",
    "    for i=1:N\n",
    "        gm=g(m)\n",
    "        println(\"l=$l \\t r=$r \\t m=$m \\t g=$gm\")\n",
    "          if abs(gm)<10E-15\n",
    "               return( println(\"极小点为：m=$m,极小值为:f(m)=$(f(m))\"))\n",
    "            else\n",
    "                if gm<0\n",
    "                    l=m\n",
    "                else\n",
    "                    r=m\n",
    "                end\n",
    "            \n",
    "            end\n",
    "            m=(l+r)*0.5 \n",
    "     end\n",
    "    length=r-l\n",
    "    println(\"极小值所在的区间为：[$l,$r],区间的长度为$length,小于等于ϵ=$ϵ\")\n",
    "   \n",
    "end"
   ]
  },
  {
   "cell_type": "code",
   "execution_count": 402,
   "metadata": {},
   "outputs": [
    {
     "name": "stdout",
     "output_type": "stream",
     "text": [
      "l=-1 \t r=1 \t m=0.0 \t g=0.0\n",
      "极小点为：m=0.0,极小值为:f(m)=0.0\n"
     ]
    }
   ],
   "source": [
    " Binary_Search(x->x^2,x->2x,-1,1,0.01)"
   ]
  },
  {
   "cell_type": "code",
   "execution_count": 403,
   "metadata": {},
   "outputs": [
    {
     "name": "stdout",
     "output_type": "stream",
     "text": [
      "l=0 \t r=2 \t m=1.0 \t g=12.0\n",
      "l=0 \t r=1.0 \t m=0.5 \t g=-20.0\n",
      "l=0.5 \t r=1.0 \t m=0.75 \t g=-1.9375\n",
      "极小值所在的区间为：[0.75,1.0],区间的长度为0.25,小于等于ϵ=0.3\n"
     ]
    }
   ],
   "source": [
    "Binary_Search(x->x^4-14x^3+60x^2-70x,x->4x^3-42x^2+120x-70,0,2,0.3)"
   ]
  },
  {
   "cell_type": "markdown",
   "metadata": {},
   "source": [
    "# (二)黄金分割比"
   ]
  },
  {
   "cell_type": "code",
   "execution_count": 390,
   "metadata": {},
   "outputs": [
    {
     "data": {
      "text/plain": [
       "Golden_Search (generic function with 1 method)"
      ]
     },
     "execution_count": 390,
     "metadata": {},
     "output_type": "execute_result"
    }
   ],
   "source": [
    "function Golden_Search(f,l0,r0,ϵ)\n",
    "    p=(3-sqrt(5))/2\n",
    "    N=ceil(log(ϵ/abs(r0-l0))/log(1-p))\n",
    "    if l0<r0\n",
    "        l=l0\n",
    "        r=r0\n",
    "    else\n",
    "        if l0>r0\n",
    "           l=r0\n",
    "           r=l0\n",
    "        else\n",
    "            println(\"ERROR:l0 == r0, 0-width range\")\n",
    "        end\n",
    "    end\n",
    "    \n",
    "   a=l+p*(r-l)\n",
    "   b=l+(1-p)*(r-l)\n",
    "    \n",
    "    for i=1:N\n",
    "         if f(a)<f(b)\n",
    "            r=b\n",
    "            b=a\n",
    "            a=l+p*(r-l)\n",
    "            l=round(l,4)\n",
    "            r=round(r,4)\n",
    "         \n",
    "            println(\" l=$l \\t r=$r\")\n",
    "            else\n",
    "            l=a\n",
    "            a=b\n",
    "            b=l+(1-p)*(r-l)\n",
    "            l=round(l,4)\n",
    "            r=round(r,4)\n",
    "           \n",
    "            println(\" l=$l \\t r=$r\")\n",
    "        end\n",
    "    end\n",
    "   \n",
    "   # return(l,r,f(l),f(r))\n",
    "        length=round(r-l,4)\n",
    "    println(\"极小值所在的区间为：[$l,$r],区间的长度为$length,小于等于ϵ=$ϵ\")\n",
    "end"
   ]
  },
  {
   "cell_type": "code",
   "execution_count": 391,
   "metadata": {},
   "outputs": [
    {
     "name": "stdout",
     "output_type": "stream",
     "text": [
      " l=0.0 \t r=1.2361\n",
      " l=0.4721 \t r=1.2361\n",
      " l=0.4721 \t r=0.9443\n",
      " l=0.6525 \t r=0.9443\n",
      "极小值所在的区间为：[0.6525,0.9443],区间的长度为0.2918,小于等于ϵ=0.3\n"
     ]
    }
   ],
   "source": [
    "Golden_Search(x->x^4-14x^3+60x^2-70x,0,2,0.3)"
   ]
  },
  {
   "cell_type": "markdown",
   "metadata": {},
   "source": [
    "# （三）斐波那契数列法"
   ]
  },
  {
   "cell_type": "code",
   "execution_count": 404,
   "metadata": {},
   "outputs": [
    {
     "data": {
      "text/plain": [
       "Fibonacci_Search (generic function with 2 methods)"
      ]
     },
     "execution_count": 404,
     "metadata": {},
     "output_type": "execute_result"
    }
   ],
   "source": [
    "function Fibonacci_Search(f,l0,r0,ϵ1,ϵ2=0.05)###ϵ1是最终压缩区间的长度，ϵ2是很小的正数，使得最后一次迭代的参数1/2-ϵ,使得有两个中间点。\n",
    "    if l0<r0\n",
    "        l=l0\n",
    "        r=r0\n",
    "    else\n",
    "        if l0>r0\n",
    "           l=r0\n",
    "           r=l0\n",
    "        else\n",
    "            println(\"ERROR:l0 == r0, 0-width range\")\n",
    "        end\n",
    "    end\n",
    "    \n",
    "    ##创建fibonacci数组\n",
    "    threshold=abs(r-l)*(1+2ϵ2)/ϵ1\n",
    "    fib=[1,2]\n",
    "    n=3\n",
    "    current=fib[n-1]+fib[n-2]\n",
    "    while  current <threshold\n",
    "        push!(fib,current)\n",
    "        n += 1 \n",
    "        current=fib[n-1]+fib[n-2]\n",
    "    end\n",
    "     push!(fib,current)\n",
    "     N=n-1\n",
    "     fib=sort(fib,1,rev=true)\n",
    "    \n",
    "    for i=1:N\n",
    "         if i==N\n",
    "            p=1-fib[i+1]/fib[i]-ϵ2\n",
    "            \n",
    "        else\n",
    "            p=1-fib[i+1]/fib[i]\n",
    "        end\n",
    "       a=l+p*(r-l)\n",
    "       b=l+(1-p)*(r-l)\n",
    "       fa=round(f(a),2)\n",
    "       fb=round(f(b),2)\n",
    "         if f(a)<f(b)\n",
    "            r=b\n",
    "            \n",
    "            println(\"f(a)=$fa \\t f(b)=$fb\\t l=$l \\t r=$r\")\n",
    "            else\n",
    "            l=a\n",
    "            println(\"f(a)=$fa \\t f(b)=$fb\\t l=$l \\t r=$r\")\n",
    "        end\n",
    "    end\n",
    "    length=r-l;\n",
    "    println(\"极小值所在的区间为：[$l,$r],区间的长度为$length,小于等于ϵ=$ϵ1\")\n",
    "end"
   ]
  },
  {
   "cell_type": "code",
   "execution_count": 405,
   "metadata": {},
   "outputs": [
    {
     "name": "stdout",
     "output_type": "stream",
     "text": [
      "f(a)=-24.34 \t f(b)=-18.65\t l=0 \t r=1.25\n",
      "f(a)=-21.69 \t f(b)=-24.34\t l=0.5 \t r=1.25\n",
      "f(a)=-24.34 \t f(b)=-23.0\t l=0.5 \t r=1.0\n",
      "f(a)=-24.27 \t f(b)=-24.37\t l=0.725 \t r=1.0\n",
      "极小值所在的区间为：[0.725,1.0],区间的长度为0.275,小于等于ϵ=0.3\n"
     ]
    }
   ],
   "source": [
    "Fibonacci_Search(x->x^4-14x^3+60x^2-70x,0,2,0.3,0.05)"
   ]
  }
 ],
 "metadata": {
  "kernelspec": {
   "display_name": "Julia 0.6.2",
   "language": "julia",
   "name": "julia-0.6"
  },
  "language_info": {
   "file_extension": ".jl",
   "mimetype": "application/julia",
   "name": "julia",
   "version": "0.6.2"
  }
 },
 "nbformat": 4,
 "nbformat_minor": 2
}
